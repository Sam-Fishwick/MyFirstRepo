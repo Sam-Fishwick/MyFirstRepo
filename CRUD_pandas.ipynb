{
 "cells": [
  {
   "cell_type": "markdown",
   "metadata": {},
   "source": [
    "Import"
   ]
  },
  {
   "cell_type": "code",
   "execution_count": 22,
   "metadata": {
    "tags": []
   },
   "outputs": [],
   "source": [
    "import pandas as pd"
   ]
  },
  {
   "cell_type": "code",
   "execution_count": 23,
   "metadata": {},
   "outputs": [],
   "source": [
    "import pyodbc as db\n",
    "import sqlalchemy as sal\n",
    "from sqlalchemy.engine import URL"
   ]
  },
  {
   "cell_type": "code",
   "execution_count": null,
   "metadata": {},
   "outputs": [],
   "source": [
    "import numpy as np\n",
    "import matplotlib.pylab as plt\n",
    "import seaborn as sns"
   ]
  },
  {
   "cell_type": "markdown",
   "metadata": {},
   "source": [
    "# Create"
   ]
  },
  {
   "cell_type": "markdown",
   "metadata": {},
   "source": [
    "from SQL database (pyodbc - pandas not fond of this database method)"
   ]
  },
  {
   "cell_type": "code",
   "execution_count": 24,
   "metadata": {},
   "outputs": [],
   "source": [
    "select_query = '''SELECT * FROM scrapes'''\n",
    "cnxn_str = ('Driver={SQL Server};'\n",
    "           'Server=DESKTOP-73Q4UES\\SQLEXPRESS;'\n",
    "           'Database=gobbledigook;'\n",
    "           'Trusted_Connecton=yes;')"
   ]
  },
  {
   "cell_type": "code",
   "execution_count": null,
   "metadata": {},
   "outputs": [],
   "source": [
    "db_cnxn = db.connect(cnxn_str)\n",
    "db_crsr = db_cnxn.cursor()"
   ]
  },
  {
   "cell_type": "code",
   "execution_count": null,
   "metadata": {},
   "outputs": [],
   "source": [
    "db_df = pd.read_sql(select_query, db_cnxn)"
   ]
  },
  {
   "cell_type": "markdown",
   "metadata": {},
   "source": [
    "from SQL database (SQLAlchemy - 1 of 2 [SQLite] preferred database methods for pandas)"
   ]
  },
  {
   "cell_type": "code",
   "execution_count": 25,
   "metadata": {},
   "outputs": [],
   "source": [
    "sal_cnxn_url = URL.create('mssql+pyodbc', query={'odbc_connect':cnxn_str})"
   ]
  },
  {
   "cell_type": "code",
   "execution_count": 26,
   "metadata": {},
   "outputs": [],
   "source": [
    "sal_engine = sal.create_engine(sal_cnxn_url)\n",
    "sal_cnxn = sal_engine.connect()"
   ]
  },
  {
   "cell_type": "code",
   "execution_count": 27,
   "metadata": {},
   "outputs": [],
   "source": [
    "sal_df = pd.read_sql(select_query, sal_cnxn)"
   ]
  },
  {
   "cell_type": "markdown",
   "metadata": {},
   "source": [
    "from CSV"
   ]
  },
  {
   "cell_type": "code",
   "execution_count": null,
   "metadata": {},
   "outputs": [],
   "source": [
    "csv_df = pd.read_csv('enrollments.csv')"
   ]
  },
  {
   "cell_type": "markdown",
   "metadata": {},
   "source": [
    "from Dictionary"
   ]
  },
  {
   "cell_type": "code",
   "execution_count": 3,
   "metadata": {},
   "outputs": [],
   "source": [
    "temp_dict = {'col1':[1,2,3], 'col2':[4,5,6], 'col3':[7,8,9]}"
   ]
  },
  {
   "cell_type": "code",
   "execution_count": null,
   "metadata": {},
   "outputs": [],
   "source": [
    "dict_df = pd.DataFrame.from_dict(temp_dict)"
   ]
  },
  {
   "cell_type": "markdown",
   "metadata": {},
   "source": [
    "# Read"
   ]
  },
  {
   "cell_type": "markdown",
   "metadata": {},
   "source": [
    "heads and tails"
   ]
  },
  {
   "cell_type": "code",
   "execution_count": 10,
   "metadata": {},
   "outputs": [
    {
     "data": {
      "text/html": [
       "<div>\n",
       "<style scoped>\n",
       "    .dataframe tbody tr th:only-of-type {\n",
       "        vertical-align: middle;\n",
       "    }\n",
       "\n",
       "    .dataframe tbody tr th {\n",
       "        vertical-align: top;\n",
       "    }\n",
       "\n",
       "    .dataframe thead th {\n",
       "        text-align: right;\n",
       "    }\n",
       "</style>\n",
       "<table border=\"1\" class=\"dataframe\">\n",
       "  <thead>\n",
       "    <tr style=\"text-align: right;\">\n",
       "      <th></th>\n",
       "      <th>search_item</th>\n",
       "      <th>page_num</th>\n",
       "      <th>brand</th>\n",
       "      <th>description</th>\n",
       "      <th>price</th>\n",
       "      <th>rating</th>\n",
       "      <th>reviews_num</th>\n",
       "    </tr>\n",
       "  </thead>\n",
       "  <tbody>\n",
       "    <tr>\n",
       "      <th>0</th>\n",
       "      <td>football</td>\n",
       "      <td>1</td>\n",
       "      <td>N/A</td>\n",
       "      <td>N/A</td>\n",
       "      <td>£11.99</td>\n",
       "      <td>4.1 out of 5 stars</td>\n",
       "      <td>1,244</td>\n",
       "    </tr>\n",
       "    <tr>\n",
       "      <th>1</th>\n",
       "      <td>football</td>\n",
       "      <td>1</td>\n",
       "      <td>N/A</td>\n",
       "      <td>N/A</td>\n",
       "      <td>£12.95</td>\n",
       "      <td>3.9 out of 5 stars</td>\n",
       "      <td>167</td>\n",
       "    </tr>\n",
       "    <tr>\n",
       "      <th>2</th>\n",
       "      <td>football</td>\n",
       "      <td>1</td>\n",
       "      <td>N/A</td>\n",
       "      <td>N/A</td>\n",
       "      <td>£12.99</td>\n",
       "      <td>4.1 out of 5 stars</td>\n",
       "      <td>2,281</td>\n",
       "    </tr>\n",
       "    <tr>\n",
       "      <th>3</th>\n",
       "      <td>football</td>\n",
       "      <td>1</td>\n",
       "      <td>N/A</td>\n",
       "      <td>N/A</td>\n",
       "      <td>£12.99</td>\n",
       "      <td>N/A</td>\n",
       "      <td>N/A</td>\n",
       "    </tr>\n",
       "    <tr>\n",
       "      <th>4</th>\n",
       "      <td>football</td>\n",
       "      <td>1</td>\n",
       "      <td>N/A</td>\n",
       "      <td>N/A</td>\n",
       "      <td>£13.99</td>\n",
       "      <td>4.4 out of 5 stars</td>\n",
       "      <td>1,422</td>\n",
       "    </tr>\n",
       "  </tbody>\n",
       "</table>\n",
       "</div>"
      ],
      "text/plain": [
       "  search_item  page_num brand description   price              rating  \\\n",
       "0    football         1   N/A         N/A  £11.99  4.1 out of 5 stars   \n",
       "1    football         1   N/A         N/A  £12.95  3.9 out of 5 stars   \n",
       "2    football         1   N/A         N/A  £12.99  4.1 out of 5 stars   \n",
       "3    football         1   N/A         N/A  £12.99                 N/A   \n",
       "4    football         1   N/A         N/A  £13.99  4.4 out of 5 stars   \n",
       "\n",
       "  reviews_num  \n",
       "0       1,244  \n",
       "1         167  \n",
       "2       2,281  \n",
       "3         N/A  \n",
       "4       1,422  "
      ]
     },
     "execution_count": 10,
     "metadata": {},
     "output_type": "execute_result"
    }
   ],
   "source": [
    "sal_df.head(5)"
   ]
  },
  {
   "cell_type": "code",
   "execution_count": 11,
   "metadata": {},
   "outputs": [
    {
     "data": {
      "text/html": [
       "<div>\n",
       "<style scoped>\n",
       "    .dataframe tbody tr th:only-of-type {\n",
       "        vertical-align: middle;\n",
       "    }\n",
       "\n",
       "    .dataframe tbody tr th {\n",
       "        vertical-align: top;\n",
       "    }\n",
       "\n",
       "    .dataframe thead th {\n",
       "        text-align: right;\n",
       "    }\n",
       "</style>\n",
       "<table border=\"1\" class=\"dataframe\">\n",
       "  <thead>\n",
       "    <tr style=\"text-align: right;\">\n",
       "      <th></th>\n",
       "      <th>search_item</th>\n",
       "      <th>page_num</th>\n",
       "      <th>brand</th>\n",
       "      <th>description</th>\n",
       "      <th>price</th>\n",
       "      <th>rating</th>\n",
       "      <th>reviews_num</th>\n",
       "    </tr>\n",
       "  </thead>\n",
       "  <tbody>\n",
       "    <tr>\n",
       "      <th>1087</th>\n",
       "      <td>keyring</td>\n",
       "      <td>7</td>\n",
       "      <td>wisdompro</td>\n",
       "      <td>Wisdompro Genuine Leather Car Keychain, Univer...</td>\n",
       "      <td>£8.99</td>\n",
       "      <td>4.2 out of 5 stars</td>\n",
       "      <td>11</td>\n",
       "    </tr>\n",
       "    <tr>\n",
       "      <th>1088</th>\n",
       "      <td>keyring</td>\n",
       "      <td>7</td>\n",
       "      <td>Generic</td>\n",
       "      <td>Keyring Key Rings Keyrings For House Car Keys ...</td>\n",
       "      <td>£8.99</td>\n",
       "      <td>5.0 out of 5 stars</td>\n",
       "      <td>1</td>\n",
       "    </tr>\n",
       "    <tr>\n",
       "      <th>1089</th>\n",
       "      <td>keyring</td>\n",
       "      <td>7</td>\n",
       "      <td>BiaoGan</td>\n",
       "      <td>Retractable Keychain Keyring Heavy Duty - Biao...</td>\n",
       "      <td>£12.99</td>\n",
       "      <td>4.4 out of 5 stars</td>\n",
       "      <td>16</td>\n",
       "    </tr>\n",
       "    <tr>\n",
       "      <th>1090</th>\n",
       "      <td>keyring</td>\n",
       "      <td>7</td>\n",
       "      <td>YOKESIN</td>\n",
       "      <td>Leather Car Keychains Replacement with Logo,Ca...</td>\n",
       "      <td>£15.99</td>\n",
       "      <td>5.0 out of 5 stars</td>\n",
       "      <td>5</td>\n",
       "    </tr>\n",
       "    <tr>\n",
       "      <th>1091</th>\n",
       "      <td>keyring</td>\n",
       "      <td>7</td>\n",
       "      <td>Ruth&amp;Boaz</td>\n",
       "      <td>Handmade Italian Vegetable Leather Belt Loop K...</td>\n",
       "      <td>£22.99</td>\n",
       "      <td>4.3 out of 5 stars</td>\n",
       "      <td>68</td>\n",
       "    </tr>\n",
       "  </tbody>\n",
       "</table>\n",
       "</div>"
      ],
      "text/plain": [
       "     search_item  page_num      brand  \\\n",
       "1087     keyring         7  wisdompro   \n",
       "1088     keyring         7    Generic   \n",
       "1089     keyring         7    BiaoGan   \n",
       "1090     keyring         7    YOKESIN   \n",
       "1091     keyring         7  Ruth&Boaz   \n",
       "\n",
       "                                            description   price  \\\n",
       "1087  Wisdompro Genuine Leather Car Keychain, Univer...   £8.99   \n",
       "1088  Keyring Key Rings Keyrings For House Car Keys ...   £8.99   \n",
       "1089  Retractable Keychain Keyring Heavy Duty - Biao...  £12.99   \n",
       "1090  Leather Car Keychains Replacement with Logo,Ca...  £15.99   \n",
       "1091  Handmade Italian Vegetable Leather Belt Loop K...  £22.99   \n",
       "\n",
       "                  rating reviews_num  \n",
       "1087  4.2 out of 5 stars          11  \n",
       "1088  5.0 out of 5 stars           1  \n",
       "1089  4.4 out of 5 stars          16  \n",
       "1090  5.0 out of 5 stars           5  \n",
       "1091  4.3 out of 5 stars          68  "
      ]
     },
     "execution_count": 11,
     "metadata": {},
     "output_type": "execute_result"
    }
   ],
   "source": [
    "sal_df.tail(5)"
   ]
  },
  {
   "cell_type": "markdown",
   "metadata": {},
   "source": [
    "columns and data types"
   ]
  },
  {
   "cell_type": "code",
   "execution_count": 12,
   "metadata": {},
   "outputs": [
    {
     "data": {
      "text/plain": [
       "Index(['search_item', 'page_num', 'brand', 'description', 'price', 'rating',\n",
       "       'reviews_num'],\n",
       "      dtype='object')"
      ]
     },
     "execution_count": 12,
     "metadata": {},
     "output_type": "execute_result"
    }
   ],
   "source": [
    "sal_df.columns"
   ]
  },
  {
   "cell_type": "code",
   "execution_count": 13,
   "metadata": {},
   "outputs": [
    {
     "data": {
      "text/plain": [
       "search_item    object\n",
       "page_num        int64\n",
       "brand          object\n",
       "description    object\n",
       "price          object\n",
       "rating         object\n",
       "reviews_num    object\n",
       "dtype: object"
      ]
     },
     "execution_count": 13,
     "metadata": {},
     "output_type": "execute_result"
    }
   ],
   "source": [
    "sal_df.dtypes"
   ]
  },
  {
   "cell_type": "markdown",
   "metadata": {},
   "source": [
    "summary stats"
   ]
  },
  {
   "cell_type": "code",
   "execution_count": 14,
   "metadata": {},
   "outputs": [
    {
     "data": {
      "text/html": [
       "<div>\n",
       "<style scoped>\n",
       "    .dataframe tbody tr th:only-of-type {\n",
       "        vertical-align: middle;\n",
       "    }\n",
       "\n",
       "    .dataframe tbody tr th {\n",
       "        vertical-align: top;\n",
       "    }\n",
       "\n",
       "    .dataframe thead th {\n",
       "        text-align: right;\n",
       "    }\n",
       "</style>\n",
       "<table border=\"1\" class=\"dataframe\">\n",
       "  <thead>\n",
       "    <tr style=\"text-align: right;\">\n",
       "      <th></th>\n",
       "      <th>page_num</th>\n",
       "    </tr>\n",
       "  </thead>\n",
       "  <tbody>\n",
       "    <tr>\n",
       "      <th>count</th>\n",
       "      <td>1092.000000</td>\n",
       "    </tr>\n",
       "    <tr>\n",
       "      <th>mean</th>\n",
       "      <td>4.000000</td>\n",
       "    </tr>\n",
       "    <tr>\n",
       "      <th>std</th>\n",
       "      <td>2.000916</td>\n",
       "    </tr>\n",
       "    <tr>\n",
       "      <th>min</th>\n",
       "      <td>1.000000</td>\n",
       "    </tr>\n",
       "    <tr>\n",
       "      <th>25%</th>\n",
       "      <td>2.000000</td>\n",
       "    </tr>\n",
       "    <tr>\n",
       "      <th>50%</th>\n",
       "      <td>4.000000</td>\n",
       "    </tr>\n",
       "    <tr>\n",
       "      <th>75%</th>\n",
       "      <td>6.000000</td>\n",
       "    </tr>\n",
       "    <tr>\n",
       "      <th>max</th>\n",
       "      <td>7.000000</td>\n",
       "    </tr>\n",
       "  </tbody>\n",
       "</table>\n",
       "</div>"
      ],
      "text/plain": [
       "          page_num\n",
       "count  1092.000000\n",
       "mean      4.000000\n",
       "std       2.000916\n",
       "min       1.000000\n",
       "25%       2.000000\n",
       "50%       4.000000\n",
       "75%       6.000000\n",
       "max       7.000000"
      ]
     },
     "execution_count": 14,
     "metadata": {},
     "output_type": "execute_result"
    }
   ],
   "source": [
    "sal_df.describe()"
   ]
  },
  {
   "cell_type": "code",
   "execution_count": 15,
   "metadata": {},
   "outputs": [
    {
     "data": {
      "text/html": [
       "<div>\n",
       "<style scoped>\n",
       "    .dataframe tbody tr th:only-of-type {\n",
       "        vertical-align: middle;\n",
       "    }\n",
       "\n",
       "    .dataframe tbody tr th {\n",
       "        vertical-align: top;\n",
       "    }\n",
       "\n",
       "    .dataframe thead th {\n",
       "        text-align: right;\n",
       "    }\n",
       "</style>\n",
       "<table border=\"1\" class=\"dataframe\">\n",
       "  <thead>\n",
       "    <tr style=\"text-align: right;\">\n",
       "      <th></th>\n",
       "      <th>search_item</th>\n",
       "      <th>brand</th>\n",
       "      <th>description</th>\n",
       "      <th>price</th>\n",
       "      <th>rating</th>\n",
       "      <th>reviews_num</th>\n",
       "    </tr>\n",
       "  </thead>\n",
       "  <tbody>\n",
       "    <tr>\n",
       "      <th>count</th>\n",
       "      <td>1092</td>\n",
       "      <td>1092</td>\n",
       "      <td>1092</td>\n",
       "      <td>1092</td>\n",
       "      <td>1092</td>\n",
       "      <td>1092</td>\n",
       "    </tr>\n",
       "    <tr>\n",
       "      <th>unique</th>\n",
       "      <td>13</td>\n",
       "      <td>110</td>\n",
       "      <td>255</td>\n",
       "      <td>153</td>\n",
       "      <td>17</td>\n",
       "      <td>199</td>\n",
       "    </tr>\n",
       "    <tr>\n",
       "      <th>top</th>\n",
       "      <td>football</td>\n",
       "      <td>N/A</td>\n",
       "      <td>N/A</td>\n",
       "      <td>£19.99</td>\n",
       "      <td>4.3 out of 5 stars</td>\n",
       "      <td>N/A</td>\n",
       "    </tr>\n",
       "    <tr>\n",
       "      <th>freq</th>\n",
       "      <td>84</td>\n",
       "      <td>504</td>\n",
       "      <td>132</td>\n",
       "      <td>43</td>\n",
       "      <td>223</td>\n",
       "      <td>87</td>\n",
       "    </tr>\n",
       "  </tbody>\n",
       "</table>\n",
       "</div>"
      ],
      "text/plain": [
       "       search_item brand description   price              rating reviews_num\n",
       "count         1092  1092        1092    1092                1092        1092\n",
       "unique          13   110         255     153                  17         199\n",
       "top       football   N/A         N/A  £19.99  4.3 out of 5 stars         N/A\n",
       "freq            84   504         132      43                 223          87"
      ]
     },
     "execution_count": 15,
     "metadata": {},
     "output_type": "execute_result"
    }
   ],
   "source": [
    "sal_df.describe(include='object')"
   ]
  },
  {
   "cell_type": "markdown",
   "metadata": {},
   "source": [
    "filter column"
   ]
  },
  {
   "cell_type": "code",
   "execution_count": 16,
   "metadata": {},
   "outputs": [
    {
     "data": {
      "text/html": [
       "<div>\n",
       "<style scoped>\n",
       "    .dataframe tbody tr th:only-of-type {\n",
       "        vertical-align: middle;\n",
       "    }\n",
       "\n",
       "    .dataframe tbody tr th {\n",
       "        vertical-align: top;\n",
       "    }\n",
       "\n",
       "    .dataframe thead th {\n",
       "        text-align: right;\n",
       "    }\n",
       "</style>\n",
       "<table border=\"1\" class=\"dataframe\">\n",
       "  <thead>\n",
       "    <tr style=\"text-align: right;\">\n",
       "      <th></th>\n",
       "      <th>rating</th>\n",
       "      <th>price</th>\n",
       "      <th>reviews_num</th>\n",
       "    </tr>\n",
       "  </thead>\n",
       "  <tbody>\n",
       "    <tr>\n",
       "      <th>0</th>\n",
       "      <td>4.1 out of 5 stars</td>\n",
       "      <td>£11.99</td>\n",
       "      <td>1,244</td>\n",
       "    </tr>\n",
       "    <tr>\n",
       "      <th>1</th>\n",
       "      <td>3.9 out of 5 stars</td>\n",
       "      <td>£12.95</td>\n",
       "      <td>167</td>\n",
       "    </tr>\n",
       "    <tr>\n",
       "      <th>2</th>\n",
       "      <td>4.1 out of 5 stars</td>\n",
       "      <td>£12.99</td>\n",
       "      <td>2,281</td>\n",
       "    </tr>\n",
       "    <tr>\n",
       "      <th>3</th>\n",
       "      <td>N/A</td>\n",
       "      <td>£12.99</td>\n",
       "      <td>N/A</td>\n",
       "    </tr>\n",
       "    <tr>\n",
       "      <th>4</th>\n",
       "      <td>4.4 out of 5 stars</td>\n",
       "      <td>£13.99</td>\n",
       "      <td>1,422</td>\n",
       "    </tr>\n",
       "    <tr>\n",
       "      <th>...</th>\n",
       "      <td>...</td>\n",
       "      <td>...</td>\n",
       "      <td>...</td>\n",
       "    </tr>\n",
       "    <tr>\n",
       "      <th>1087</th>\n",
       "      <td>4.2 out of 5 stars</td>\n",
       "      <td>£8.99</td>\n",
       "      <td>11</td>\n",
       "    </tr>\n",
       "    <tr>\n",
       "      <th>1088</th>\n",
       "      <td>5.0 out of 5 stars</td>\n",
       "      <td>£8.99</td>\n",
       "      <td>1</td>\n",
       "    </tr>\n",
       "    <tr>\n",
       "      <th>1089</th>\n",
       "      <td>4.4 out of 5 stars</td>\n",
       "      <td>£12.99</td>\n",
       "      <td>16</td>\n",
       "    </tr>\n",
       "    <tr>\n",
       "      <th>1090</th>\n",
       "      <td>5.0 out of 5 stars</td>\n",
       "      <td>£15.99</td>\n",
       "      <td>5</td>\n",
       "    </tr>\n",
       "    <tr>\n",
       "      <th>1091</th>\n",
       "      <td>4.3 out of 5 stars</td>\n",
       "      <td>£22.99</td>\n",
       "      <td>68</td>\n",
       "    </tr>\n",
       "  </tbody>\n",
       "</table>\n",
       "<p>1092 rows × 3 columns</p>\n",
       "</div>"
      ],
      "text/plain": [
       "                  rating   price reviews_num\n",
       "0     4.1 out of 5 stars  £11.99       1,244\n",
       "1     3.9 out of 5 stars  £12.95         167\n",
       "2     4.1 out of 5 stars  £12.99       2,281\n",
       "3                    N/A  £12.99         N/A\n",
       "4     4.4 out of 5 stars  £13.99       1,422\n",
       "...                  ...     ...         ...\n",
       "1087  4.2 out of 5 stars   £8.99          11\n",
       "1088  5.0 out of 5 stars   £8.99           1\n",
       "1089  4.4 out of 5 stars  £12.99          16\n",
       "1090  5.0 out of 5 stars  £15.99           5\n",
       "1091  4.3 out of 5 stars  £22.99          68\n",
       "\n",
       "[1092 rows x 3 columns]"
      ]
     },
     "execution_count": 16,
     "metadata": {},
     "output_type": "execute_result"
    }
   ],
   "source": [
    "sal_df[['rating', 'price', 'reviews_num']]"
   ]
  },
  {
   "cell_type": "markdown",
   "metadata": {},
   "source": [
    "filter rows"
   ]
  },
  {
   "cell_type": "code",
   "execution_count": null,
   "metadata": {},
   "outputs": [],
   "source": [
    "sal_df[(sal_df['price']<20.00) & (sal_df['reviews_num']>100)] # - price wrong datatype"
   ]
  },
  {
   "cell_type": "markdown",
   "metadata": {},
   "source": [
    "iloc"
   ]
  },
  {
   "cell_type": "code",
   "execution_count": 18,
   "metadata": {},
   "outputs": [
    {
     "data": {
      "text/plain": [
       "search_item                                             football\n",
       "page_num                                                       2\n",
       "brand                                                        N/A\n",
       "description    Spolife Football Size 5&Size 4 Training Footba...\n",
       "price                                                     £12.99\n",
       "rating                                                       N/A\n",
       "reviews_num                                                  N/A\n",
       "Name: 15, dtype: object"
      ]
     },
     "execution_count": 18,
     "metadata": {},
     "output_type": "execute_result"
    }
   ],
   "source": [
    "sal_df.iloc[15]"
   ]
  },
  {
   "cell_type": "markdown",
   "metadata": {},
   "source": [
    "# Update"
   ]
  },
  {
   "cell_type": "markdown",
   "metadata": {},
   "source": [
    "count nulls"
   ]
  },
  {
   "cell_type": "code",
   "execution_count": 19,
   "metadata": {},
   "outputs": [
    {
     "data": {
      "text/plain": [
       "search_item    0\n",
       "page_num       0\n",
       "brand          0\n",
       "description    0\n",
       "price          0\n",
       "rating         0\n",
       "reviews_num    0\n",
       "dtype: int64"
      ]
     },
     "execution_count": 19,
     "metadata": {},
     "output_type": "execute_result"
    }
   ],
   "source": [
    "sal_df.isnull().sum()"
   ]
  },
  {
   "cell_type": "markdown",
   "metadata": {},
   "source": [
    "drop null rows"
   ]
  },
  {
   "cell_type": "code",
   "execution_count": null,
   "metadata": {},
   "outputs": [],
   "source": [
    "csv_df.dropna(inplace=True)"
   ]
  },
  {
   "cell_type": "code",
   "execution_count": null,
   "metadata": {},
   "outputs": [],
   "source": [
    "csv_df.isnull().sum()"
   ]
  },
  {
   "cell_type": "markdown",
   "metadata": {},
   "source": [
    "drop columns"
   ]
  },
  {
   "cell_type": "code",
   "execution_count": 20,
   "metadata": {},
   "outputs": [
    {
     "data": {
      "text/html": [
       "<div>\n",
       "<style scoped>\n",
       "    .dataframe tbody tr th:only-of-type {\n",
       "        vertical-align: middle;\n",
       "    }\n",
       "\n",
       "    .dataframe tbody tr th {\n",
       "        vertical-align: top;\n",
       "    }\n",
       "\n",
       "    .dataframe thead th {\n",
       "        text-align: right;\n",
       "    }\n",
       "</style>\n",
       "<table border=\"1\" class=\"dataframe\">\n",
       "  <thead>\n",
       "    <tr style=\"text-align: right;\">\n",
       "      <th></th>\n",
       "      <th>search_item</th>\n",
       "      <th>brand</th>\n",
       "      <th>description</th>\n",
       "      <th>price</th>\n",
       "      <th>rating</th>\n",
       "      <th>reviews_num</th>\n",
       "    </tr>\n",
       "  </thead>\n",
       "  <tbody>\n",
       "    <tr>\n",
       "      <th>0</th>\n",
       "      <td>football</td>\n",
       "      <td>N/A</td>\n",
       "      <td>N/A</td>\n",
       "      <td>£11.99</td>\n",
       "      <td>4.1 out of 5 stars</td>\n",
       "      <td>1,244</td>\n",
       "    </tr>\n",
       "    <tr>\n",
       "      <th>1</th>\n",
       "      <td>football</td>\n",
       "      <td>N/A</td>\n",
       "      <td>N/A</td>\n",
       "      <td>£12.95</td>\n",
       "      <td>3.9 out of 5 stars</td>\n",
       "      <td>167</td>\n",
       "    </tr>\n",
       "    <tr>\n",
       "      <th>2</th>\n",
       "      <td>football</td>\n",
       "      <td>N/A</td>\n",
       "      <td>N/A</td>\n",
       "      <td>£12.99</td>\n",
       "      <td>4.1 out of 5 stars</td>\n",
       "      <td>2,281</td>\n",
       "    </tr>\n",
       "    <tr>\n",
       "      <th>3</th>\n",
       "      <td>football</td>\n",
       "      <td>N/A</td>\n",
       "      <td>N/A</td>\n",
       "      <td>£12.99</td>\n",
       "      <td>N/A</td>\n",
       "      <td>N/A</td>\n",
       "    </tr>\n",
       "    <tr>\n",
       "      <th>4</th>\n",
       "      <td>football</td>\n",
       "      <td>N/A</td>\n",
       "      <td>N/A</td>\n",
       "      <td>£13.99</td>\n",
       "      <td>4.4 out of 5 stars</td>\n",
       "      <td>1,422</td>\n",
       "    </tr>\n",
       "    <tr>\n",
       "      <th>...</th>\n",
       "      <td>...</td>\n",
       "      <td>...</td>\n",
       "      <td>...</td>\n",
       "      <td>...</td>\n",
       "      <td>...</td>\n",
       "      <td>...</td>\n",
       "    </tr>\n",
       "    <tr>\n",
       "      <th>1087</th>\n",
       "      <td>keyring</td>\n",
       "      <td>wisdompro</td>\n",
       "      <td>Wisdompro Genuine Leather Car Keychain, Univer...</td>\n",
       "      <td>£8.99</td>\n",
       "      <td>4.2 out of 5 stars</td>\n",
       "      <td>11</td>\n",
       "    </tr>\n",
       "    <tr>\n",
       "      <th>1088</th>\n",
       "      <td>keyring</td>\n",
       "      <td>Generic</td>\n",
       "      <td>Keyring Key Rings Keyrings For House Car Keys ...</td>\n",
       "      <td>£8.99</td>\n",
       "      <td>5.0 out of 5 stars</td>\n",
       "      <td>1</td>\n",
       "    </tr>\n",
       "    <tr>\n",
       "      <th>1089</th>\n",
       "      <td>keyring</td>\n",
       "      <td>BiaoGan</td>\n",
       "      <td>Retractable Keychain Keyring Heavy Duty - Biao...</td>\n",
       "      <td>£12.99</td>\n",
       "      <td>4.4 out of 5 stars</td>\n",
       "      <td>16</td>\n",
       "    </tr>\n",
       "    <tr>\n",
       "      <th>1090</th>\n",
       "      <td>keyring</td>\n",
       "      <td>YOKESIN</td>\n",
       "      <td>Leather Car Keychains Replacement with Logo,Ca...</td>\n",
       "      <td>£15.99</td>\n",
       "      <td>5.0 out of 5 stars</td>\n",
       "      <td>5</td>\n",
       "    </tr>\n",
       "    <tr>\n",
       "      <th>1091</th>\n",
       "      <td>keyring</td>\n",
       "      <td>Ruth&amp;Boaz</td>\n",
       "      <td>Handmade Italian Vegetable Leather Belt Loop K...</td>\n",
       "      <td>£22.99</td>\n",
       "      <td>4.3 out of 5 stars</td>\n",
       "      <td>68</td>\n",
       "    </tr>\n",
       "  </tbody>\n",
       "</table>\n",
       "<p>1092 rows × 6 columns</p>\n",
       "</div>"
      ],
      "text/plain": [
       "     search_item      brand  \\\n",
       "0       football        N/A   \n",
       "1       football        N/A   \n",
       "2       football        N/A   \n",
       "3       football        N/A   \n",
       "4       football        N/A   \n",
       "...          ...        ...   \n",
       "1087     keyring  wisdompro   \n",
       "1088     keyring    Generic   \n",
       "1089     keyring    BiaoGan   \n",
       "1090     keyring    YOKESIN   \n",
       "1091     keyring  Ruth&Boaz   \n",
       "\n",
       "                                            description   price  \\\n",
       "0                                                   N/A  £11.99   \n",
       "1                                                   N/A  £12.95   \n",
       "2                                                   N/A  £12.99   \n",
       "3                                                   N/A  £12.99   \n",
       "4                                                   N/A  £13.99   \n",
       "...                                                 ...     ...   \n",
       "1087  Wisdompro Genuine Leather Car Keychain, Univer...   £8.99   \n",
       "1088  Keyring Key Rings Keyrings For House Car Keys ...   £8.99   \n",
       "1089  Retractable Keychain Keyring Heavy Duty - Biao...  £12.99   \n",
       "1090  Leather Car Keychains Replacement with Logo,Ca...  £15.99   \n",
       "1091  Handmade Italian Vegetable Leather Belt Loop K...  £22.99   \n",
       "\n",
       "                  rating reviews_num  \n",
       "0     4.1 out of 5 stars       1,244  \n",
       "1     3.9 out of 5 stars         167  \n",
       "2     4.1 out of 5 stars       2,281  \n",
       "3                    N/A         N/A  \n",
       "4     4.4 out of 5 stars       1,422  \n",
       "...                  ...         ...  \n",
       "1087  4.2 out of 5 stars          11  \n",
       "1088  5.0 out of 5 stars           1  \n",
       "1089  4.4 out of 5 stars          16  \n",
       "1090  5.0 out of 5 stars           5  \n",
       "1091  4.3 out of 5 stars          68  \n",
       "\n",
       "[1092 rows x 6 columns]"
      ]
     },
     "execution_count": 20,
     "metadata": {},
     "output_type": "execute_result"
    }
   ],
   "source": [
    "sal_df.drop('page_num', axis=1)"
   ]
  },
  {
   "cell_type": "markdown",
   "metadata": {},
   "source": [
    "# Write-out/Delete"
   ]
  },
  {
   "cell_type": "markdown",
   "metadata": {},
   "source": [
    "to CSV"
   ]
  },
  {
   "cell_type": "code",
   "execution_count": 28,
   "metadata": {},
   "outputs": [],
   "source": [
    "sal_df.to_csv('CRUD_scrapes.csv')"
   ]
  },
  {
   "cell_type": "markdown",
   "metadata": {},
   "source": [
    "to SQL database (SQLAlchemy - may not be possible with pyodbc)"
   ]
  },
  {
   "cell_type": "code",
   "execution_count": null,
   "metadata": {},
   "outputs": [],
   "source": [
    "csv_df.to_sql('csv_table', conn, if_exists='append')"
   ]
  },
  {
   "cell_type": "code",
   "execution_count": null,
   "metadata": {},
   "outputs": [],
   "source": [
    "rows = conn.execute('SELECT TOP 5 * FROM csv_table').fetchall()\n",
    "print(rows)"
   ]
  },
  {
   "cell_type": "markdown",
   "metadata": {},
   "source": [
    "to JSON"
   ]
  },
  {
   "cell_type": "code",
   "execution_count": null,
   "metadata": {},
   "outputs": [],
   "source": [
    "csv_df.to_json()"
   ]
  },
  {
   "cell_type": "markdown",
   "metadata": {},
   "source": [
    "to HTML"
   ]
  },
  {
   "cell_type": "code",
   "execution_count": null,
   "metadata": {},
   "outputs": [],
   "source": [
    "csv_df.to_html()"
   ]
  },
  {
   "cell_type": "markdown",
   "metadata": {},
   "source": [
    "delete dataframe"
   ]
  },
  {
   "cell_type": "code",
   "execution_count": null,
   "metadata": {},
   "outputs": [],
   "source": [
    "del csv_df"
   ]
  },
  {
   "cell_type": "code",
   "execution_count": 21,
   "metadata": {},
   "outputs": [],
   "source": [
    "del sal_df"
   ]
  }
 ],
 "metadata": {
  "kernelspec": {
   "display_name": "Python 3.10.7 64-bit (microsoft store)",
   "language": "python",
   "name": "python3"
  },
  "language_info": {
   "codemirror_mode": {
    "name": "ipython",
    "version": 3
   },
   "file_extension": ".py",
   "mimetype": "text/x-python",
   "name": "python",
   "nbconvert_exporter": "python",
   "pygments_lexer": "ipython3",
   "version": "3.10.7"
  },
  "orig_nbformat": 4,
  "vscode": {
   "interpreter": {
    "hash": "3716b24664dd672a2071b357086b34feb8bb8367338ba9fa709c256c0754393b"
   }
  }
 },
 "nbformat": 4,
 "nbformat_minor": 2
}
